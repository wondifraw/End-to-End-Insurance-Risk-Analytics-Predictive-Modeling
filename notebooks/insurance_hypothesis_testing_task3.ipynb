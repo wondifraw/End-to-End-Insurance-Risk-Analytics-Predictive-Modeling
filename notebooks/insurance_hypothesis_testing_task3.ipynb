{
 "cells": [
  {
   "cell_type": "code",
   "execution_count": null,
   "metadata": {},
   "outputs": [],
   "source": [
    "import pandas as pd\n",
    "import numpy as np\n",
    "import matplotlib.pyplot as plt\n",
    "import seaborn as sns\n",
    "\n",
    "# For local modules (if running as a script, adjust path as needed)\n",
    "import sys\n",
    "sys.path.append('../src')\n",
    "\n",
    "from preprocessor import Preprocessor\n",
    "from visualizer import Visualizer\n",
    "import stat_tests\n"
   ]
  }
 ],
 "metadata": {
  "language_info": {
   "name": "python"
  }
 },
 "nbformat": 4,
 "nbformat_minor": 2
}
